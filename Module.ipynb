{
 "cells": [
  {
   "cell_type": "code",
   "execution_count": 7,
   "id": "a95d4805-3552-45d9-b5a7-40c3fa15901e",
   "metadata": {},
   "outputs": [
    {
     "data": {
      "text/plain": [
       "'Q1 explain with an example each when to use a for loop and a while loop.\\n   ans: when you know how many times you want to run the loop or how many times you want the output but when you want to run loop upto certain condition ,we use while loop'"
      ]
     },
     "execution_count": 7,
     "metadata": {},
     "output_type": "execute_result"
    }
   ],
   "source": [
    "'''Q1 explain with an example each when to use a for loop and a while loop.\n",
    "   ans: when you know how many times you want to run the loop or how many times you want the output but when you want to run loop upto certain condition ,we use while loop'''\n",
    "\n"
   ]
  },
  {
   "cell_type": "code",
   "execution_count": 8,
   "id": "07d9f29c-6abe-48b3-b234-cee4e4fe6222",
   "metadata": {},
   "outputs": [
    {
     "name": "stdout",
     "output_type": "stream",
     "text": [
      "sum of 10 numbers is 55\n",
      "product is 3628800\n"
     ]
    }
   ],
   "source": [
    "\n",
    "'''Q2: Write a python program to print the sum and product of the first 10 natural numbers using for\n",
    "and while loop'''\n",
    "sum=0\n",
    "for i in range(1,11) :\n",
    "    \n",
    "    sum=sum+i\n",
    "print(\"sum of 10 numbers is\",sum)\n",
    "\n",
    "k=1\n",
    "pro=1\n",
    "while k<11 :\n",
    "    \n",
    "    pro=pro*k\n",
    "    k=k+1\n",
    "print(\"product is\",pro)\n"
   ]
  },
  {
   "cell_type": "code",
   "execution_count": null,
   "id": "e815a6ab-5f99-40e0-8762-73771e3fa97c",
   "metadata": {},
   "outputs": [],
   "source": [
    "''' Q3 . Create a python program to compute the electricity bill for a household.\n",
    "\n",
    "The per-unit charges in rupees are as follows: For the first 100 units, the user will be charged Rs. 4.5 per\n",
    "unit, for the next 100 units, the user will be charged Rs. 6 per unit, and for the next 100 units, the user will\n",
    "be charged Rs. 10 per unit, After 300 units and above the user will be charged Rs. 20 per unit.\n",
    "You are required to take the units of electricity consumed in a month from the user as input.\n",
    "Your program must pass this test case: when the unit of electricity consumed by the user in a month is\n",
    "310, the total electricity bill should be 2250.'''\n",
    "def calculate_electricity_bill(units):\n",
    "    total_bill = 0\n",
    "    \n",
    "    # For the first 100 units\n",
    "    if units <= 100:\n",
    "        total_bill = units * 4.5\n",
    "    else:\n",
    "        total_bill += 100 * 4.5\n",
    "        units -= 100\n",
    "        \n",
    "        # For the next 100 units\n",
    "        if units <= 100:\n",
    "            total_bill += units * 6\n",
    "        else:\n",
    "            total_bill += 100 * 6\n",
    "            units -= 100\n",
    "            \n",
    "            # For the next 100 units\n",
    "            if units <= 100:\n",
    "                total_bill += units * 10\n",
    "            else:\n",
    "                total_bill += 100 * 10\n",
    "                units -= 100\n",
    "                \n",
    "                # For units above 300\n",
    "                total_bill += units * 20\n",
    "    \n",
    "    return total_bill\n",
    "\n",
    "# Example usage\n",
    "units_consumed = int(input(\"Enter the number of units consumed: \"))\n",
    "bill_amount = calculate_electricity_bill(units_consumed)\n",
    "print(\"Electricity bill: Rs.\", bill_amount)\n"
   ]
  },
  {
   "cell_type": "code",
   "execution_count": 9,
   "id": "91da35e5-4638-4d60-a3e5-41406089b609",
   "metadata": {},
   "outputs": [
    {
     "name": "stdout",
     "output_type": "stream",
     "text": [
      "[2, 4, 5, 6, 8, 10, 12, 14, 15, 16, 18, 20, 22, 24, 25, 26, 28, 30, 32, 34, 35, 36, 38, 40, 42, 44, 45, 46, 48, 50, 52, 54, 55, 56, 58, 60, 62, 64, 65, 66, 68, 70, 72, 74, 75, 76, 78, 80, 82, 84, 85, 86, 88, 90, 92, 94, 95, 96, 98, 100]\n"
     ]
    }
   ],
   "source": [
    "'''Q4. Create a list of numbers from 1 to 100. Use for loop and while loop to calculate the cube of each\n",
    "number and if the cube of that number is divisible by 4 or 5 then append that number in a list and print\n",
    "that list.'''\n",
    "lst=[i for i in range(1,101)]\n",
    "lst2=[]\n",
    "for i in lst :\n",
    "    k=i*i*i\n",
    "    if k%4==0 or k%5==0:\n",
    "        lst2.append(i)\n",
    "print(lst2) \n"
   ]
  },
  {
   "cell_type": "code",
   "execution_count": 6,
   "id": "02bb97d3-c452-43c3-b81e-a6c6e946b174",
   "metadata": {},
   "outputs": [
    {
     "name": "stdout",
     "output_type": "stream",
     "text": [
      "Number of vowels: 12\n"
     ]
    }
   ],
   "source": [
    "'''Q5. Write a program to filter count vowels in the below-given string.\n",
    "string = \"I want to become a data scientist\" '''\n",
    "def count_vowels(string):\n",
    "    vowels = 'aeiouAEIOU'\n",
    "    vowel_count = 0\n",
    "    for char in string:\n",
    "        if char in vowels:\n",
    "            vowel_count += 1\n",
    "    return vowel_count\n",
    "\n",
    "string = \"I want to become a data scientist\"\n",
    "vowel_count = count_vowels(string)\n",
    "print(\"Number of vowels:\", vowel_count)"
   ]
  }
 ],
 "metadata": {
  "kernelspec": {
   "display_name": "Python 3 (ipykernel)",
   "language": "python",
   "name": "python3"
  },
  "language_info": {
   "codemirror_mode": {
    "name": "ipython",
    "version": 3
   },
   "file_extension": ".py",
   "mimetype": "text/x-python",
   "name": "python",
   "nbconvert_exporter": "python",
   "pygments_lexer": "ipython3",
   "version": "3.10.8"
  }
 },
 "nbformat": 4,
 "nbformat_minor": 5
}
